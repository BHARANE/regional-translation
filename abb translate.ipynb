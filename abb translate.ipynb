{
 "cells": [
  {
   "cell_type": "code",
   "execution_count": 1,
   "metadata": {},
   "outputs": [
    {
     "name": "stdout",
     "output_type": "stream",
     "text": [
      " \n",
      "1.ENGLISH -> (en)\n",
      "2.HINDI -> (hi)\n",
      "3.TAMIL -> (ta)\n",
      "4.TELUGU -> (te)\n",
      "5.FRENCH -> (fr)\n",
      "SELECT FROM LANGUAGE : en\n",
      " \n",
      "1.ENGLISH -> (en)\n",
      "2.HINDI -> (hi)\n",
      "3.TAMIL -> (ta)\n",
      "4.TELUGU -> (te)\n",
      "5.FRENCH -> (fr)\n",
      "SELECT TO LANGUAGE : fr\n",
      "enter your text : small\n",
      "Changed Data : b'petit'\n"
     ]
    }
   ],
   "source": [
    "import requests\n",
    "user = \"FREE_TRIAL_ACCOUNT\"\n",
    "password = \"PUBLIC_SECRET\"\n",
    "#the above line is the user id and password for access the google translate\n",
    "\n",
    "from2 =input(\" \\n1.ENGLISH -> (en)\\n2.HINDI -> (hi)\\n3.TAMIL -> (ta)\\n4.TELUGU -> (te)\\n5.FRENCH -> (fr)\\nSELECT FROM LANGUAGE : \")\n",
    "#the above line is used to get the user input for the language from which he need to change\n",
    "too =input(\" \\n1.ENGLISH -> (en)\\n2.HINDI -> (hi)\\n3.TAMIL -> (ta)\\n4.TELUGU -> (te)\\n5.FRENCH -> (fr)\\nSELECT TO LANGUAGE : \")\n",
    "#the above line is used to get the language to which they need to change\n",
    "data = input(\"enter your text : \")\n",
    "#the above line is used to get the input text they need to change\n",
    "abb = {\n",
    "    'fromLang': from2,\n",
    "    'toLang': too,\n",
    "    'text': data\n",
    "}\n",
    "#the above lines are used to pass the from,to language and teh text to change\n",
    "top = {\n",
    "    'X-WM-CLIENT-ID': user, \n",
    "    'X-WM-CLIENT-SECRET': password\n",
    "    #the user id and password are passed \n",
    "}\n",
    "\n",
    "ab = requests.post('http://api.whatsmate.net/v1/translation/translate', \n",
    "    headers=top,\n",
    "    json=abb)\n",
    "#the above line are used to access the google translate and change the language of input data \n",
    "print(\"Changed Data : \" + str(ab.content))\n",
    "#this is the out put of the code"
   ]
  },
  {
   "cell_type": "code",
   "execution_count": null,
   "metadata": {},
   "outputs": [],
   "source": []
  },
  {
   "cell_type": "code",
   "execution_count": null,
   "metadata": {},
   "outputs": [],
   "source": []
  },
  {
   "cell_type": "code",
   "execution_count": null,
   "metadata": {},
   "outputs": [],
   "source": []
  },
  {
   "cell_type": "code",
   "execution_count": null,
   "metadata": {},
   "outputs": [],
   "source": []
  },
  {
   "cell_type": "code",
   "execution_count": null,
   "metadata": {},
   "outputs": [],
   "source": []
  },
  {
   "cell_type": "code",
   "execution_count": null,
   "metadata": {},
   "outputs": [],
   "source": []
  },
  {
   "cell_type": "code",
   "execution_count": null,
   "metadata": {},
   "outputs": [],
   "source": []
  },
  {
   "cell_type": "code",
   "execution_count": null,
   "metadata": {},
   "outputs": [],
   "source": []
  },
  {
   "cell_type": "code",
   "execution_count": null,
   "metadata": {},
   "outputs": [],
   "source": []
  },
  {
   "cell_type": "code",
   "execution_count": null,
   "metadata": {},
   "outputs": [],
   "source": []
  },
  {
   "cell_type": "code",
   "execution_count": null,
   "metadata": {},
   "outputs": [],
   "source": []
  }
 ],
 "metadata": {
  "kernelspec": {
   "display_name": "Python 3",
   "language": "python",
   "name": "python3"
  },
  "language_info": {
   "codemirror_mode": {
    "name": "ipython",
    "version": 3
   },
   "file_extension": ".py",
   "mimetype": "text/x-python",
   "name": "python",
   "nbconvert_exporter": "python",
   "pygments_lexer": "ipython3",
   "version": "3.7.0"
  }
 },
 "nbformat": 4,
 "nbformat_minor": 2
}
